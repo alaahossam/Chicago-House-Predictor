{
  "cells": [
    {
      "cell_type": "code",
      "execution_count": null,
      "metadata": {
        "colab": {
          "base_uri": "https://localhost:8080/"
        },
        "id": "cluKSGefwRMs",
        "outputId": "b30a99a9-525c-4dad-c90a-c1ac70745e8d"
      },
      "outputs": [
        {
          "name": "stdout",
          "output_type": "stream",
          "text": [
            "Drive already mounted at /content/drive; to attempt to forcibly remount, call drive.mount(\"/content/drive\", force_remount=True).\n"
          ]
        }
      ],
      "source": [
        "from google.colab import drive\n",
        "drive.mount('/content/drive')"
      ]
    },
    {
      "cell_type": "code",
      "execution_count": null,
      "metadata": {
        "id": "FXRQFyrq0nQ0"
      },
      "outputs": [],
      "source": [
        "import pandas as pd\n",
        "import numpy as np\n",
        "from sklearn import preprocessing, svm\n",
        "from sklearn.model_selection import train_test_split\n",
        "from sklearn.linear_model import LinearRegression\n",
        "from sklearn.ensemble import ExtraTreesRegressor\n",
        "from sklearn import metrics\n"
      ]
    },
    {
      "cell_type": "code",
      "execution_count": null,
      "metadata": {
        "id": "nsjyjpcY0W1x"
      },
      "outputs": [],
      "source": [
        "path = '/content/drive/MyDrive/realest.csv'"
      ]
    },
    {
      "cell_type": "code",
      "execution_count": null,
      "metadata": {
        "colab": {
          "base_uri": "https://localhost:8080/"
        },
        "id": "hOP8hBw21mOw",
        "outputId": "692d4506-2f3f-4c2d-d036-13eaf74a05c7"
      },
      "outputs": [
        {
          "name": "stdout",
          "output_type": "stream",
          "text": [
            "     Price  Bedroom   Space  Room   Lot     Tax  Bathroom  Garage  Condition\n",
            "0     53.0      2.0   967.0   5.0  39.0   652.0       1.5     0.0        0.0\n",
            "1     55.0      2.0   815.0   5.0  33.0  1000.0       1.0     2.0        1.0\n",
            "2     56.0      3.0   900.0   5.0  35.0   897.0       1.5     1.0        0.0\n",
            "3     58.0      3.0  1007.0   6.0  24.0   964.0       1.5     2.0        0.0\n",
            "4     64.0      3.0  1100.0   7.0  50.0  1099.0       1.5     1.5        0.0\n",
            "..     ...      ...     ...   ...   ...     ...       ...     ...        ...\n",
            "152   44.0      3.0   820.0   5.0  27.0     NaN       1.0     0.0        1.0\n",
            "153   43.0      2.0   593.0   4.0  30.0   465.0       2.0     1.0        0.0\n",
            "154   53.0      3.0   716.0   6.0  30.0   585.0       1.0     2.0        1.0\n",
            "155   62.0      4.0   951.0   7.0  30.0   895.0       2.0     1.0        0.0\n",
            "156    NaN      NaN     NaN   NaN   NaN     NaN       NaN     NaN        NaN\n",
            "\n",
            "[157 rows x 9 columns]\n"
          ]
        }
      ],
      "source": [
        "data_frame=pd.read_csv(path)\n",
        "print(data_frame)"
      ]
    },
    {
      "cell_type": "code",
      "execution_count": null,
      "metadata": {
        "colab": {
          "base_uri": "https://localhost:8080/"
        },
        "id": "Ltnet67C6a63",
        "outputId": "a2588b0e-95b1-4ee5-f886-6aee0ab74e3e"
      },
      "outputs": [
        {
          "data": {
            "text/plain": [
              "Price         1\n",
              "Bedroom       1\n",
              "Space        11\n",
              "Room          1\n",
              "Lot          11\n",
              "Tax          10\n",
              "Bathroom      1\n",
              "Garage        1\n",
              "Condition     1\n",
              "dtype: int64"
            ]
          },
          "execution_count": 57,
          "metadata": {},
          "output_type": "execute_result"
        }
      ],
      "source": [
        "data_frame.isna().sum()"
      ]
    },
    {
      "cell_type": "code",
      "execution_count": null,
      "metadata": {
        "id": "Q2FEB47K6-eW"
      },
      "outputs": [],
      "source": [
        "for column in data_frame.columns:\n",
        "  if column in [\"price\",\"Bedroom\",\"Room\",\"Bathroom\",\"Garage\",\"Condition\"]:\n",
        "    data_frame[column] = data_frame[column].fillna(data_frame[column].median())\n",
        "  else:\n",
        "    data_frame[column] = data_frame[column].fillna(data_frame[column].mean())"
      ]
    },
    {
      "cell_type": "code",
      "execution_count": null,
      "metadata": {
        "colab": {
          "background_save": true
        },
        "id": "aUYBIofM1xU7"
      },
      "outputs": [],
      "source": [
        "Bathroom=data_frame[\"Bathroom\"]\n",
        "#bt=data_frame[Bathroom]\n",
        "Bedroom=data_frame['Bedroom']\n",
        "#bd=data_frame[Bedroom]\n",
        "dd=data_frame.loc[(data_frame['Bathroom']==2) and (data_frame['Bedroom']==4) ,'Tax']"
      ]
    },
    {
      "cell_type": "code",
      "execution_count": null,
      "metadata": {
        "colab": {
          "base_uri": "https://localhost:8080/"
        },
        "id": "jwiJKAj34PAW",
        "outputId": "ae45fd8d-55da-4294-de6b-9594b40de57c"
      },
      "outputs": [
        {
          "name": "stdout",
          "output_type": "stream",
          "text": [
            "                  mean         std    min     max\n",
            "Price        56.474359   12.833974   32.0    90.0\n",
            "Bedroom       3.165605    1.343775    1.0     8.0\n",
            "Space      1097.246575  445.935096  539.0  2295.0\n",
            "Room          6.496815    1.670345    4.0    12.0\n",
            "Lot          32.808219    8.154215   24.0    50.0\n",
            "Tax         911.707483  428.820987  418.0  2752.0\n",
            "Bathroom      1.480892    0.527711    1.0     3.0\n",
            "Garage        0.847134    0.805952    0.0     2.0\n",
            "Condition     0.229299    0.421727    0.0     1.0\n"
          ]
        }
      ],
      "source": [
        "x=data_frame.describe().T\n",
        "statistics_for_all= x.drop(columns=['count','25%','50%','75%'])\n",
        "print(statistics_for_all)"
      ]
    },
    {
      "cell_type": "code",
      "execution_count": null,
      "metadata": {
        "id": "2nfrLLWc5IjJ"
      },
      "outputs": [],
      "source": [
        "X = data_frame.drop('Price', axis = 1)\n",
        "y = data_frame['Price']"
      ]
    },
    {
      "cell_type": "code",
      "execution_count": null,
      "metadata": {
        "id": "XiyszWaT9tTY"
      },
      "outputs": [],
      "source": [
        "x_train, x_test, y_train, y_test = train_test_split(X, y, test_size = 0.2, random_state = 0)"
      ]
    },
    {
      "cell_type": "code",
      "execution_count": null,
      "metadata": {
        "id": "ywy7NfXt_i3O"
      },
      "outputs": [],
      "source": [
        "from sklearn.linear_model import LinearRegression\n",
        "lm=LinearRegression()\n",
        "model=lm.fit(x_train,y_train)"
      ]
    },
    {
      "cell_type": "code",
      "execution_count": null,
      "metadata": {
        "colab": {
          "base_uri": "https://localhost:8080/"
        },
        "id": "iM1iSkwQAWc6",
        "outputId": "e721c765-9107-4eb8-d83a-d1d246557658"
      },
      "outputs": [
        {
          "name": "stdout",
          "output_type": "stream",
          "text": [
            "[-2.66949903  0.00962575  1.99877361  0.11596629  0.0092059   5.28849861\n",
            "  3.56305454  0.93885114]\n",
            "18.357771545636787\n"
          ]
        }
      ],
      "source": [
        "model_coef= model.coef_\n",
        "print(model_coef)\n",
        "intercept=model.intercept_\n",
        "print(intercept)"
      ]
    },
    {
      "cell_type": "code",
      "execution_count": null,
      "metadata": {
        "colab": {
          "base_uri": "https://localhost:8080/"
        },
        "id": "xHeNjKygAm1F",
        "outputId": "7ed6a44c-cd69-4ffd-a609-e04246045b1f"
      },
      "outputs": [
        {
          "name": "stdout",
          "output_type": "stream",
          "text": [
            "[84.73928178 56.82012491 55.73662863 48.51571555 41.68139892 76.05319187\n",
            " 59.30738453 47.92241316 65.10289171 61.57426643 53.54929092 59.5957063\n",
            " 53.13365521 62.92550258 58.58776108 41.62742307 53.20660552 48.3425257\n",
            " 82.39740443 65.50039784 45.82500084 84.68944293 86.62450786 60.53387168\n",
            " 58.57697617 42.31744559 47.46911339 48.61207731 60.53266182 85.46825787\n",
            " 60.07715389 55.16792633]\n"
          ]
        }
      ],
      "source": [
        "y_predict=model.predict(x_test)\n",
        "print(y_predict)"
      ]
    },
    {
      "cell_type": "code",
      "execution_count": null,
      "metadata": {
        "colab": {
          "base_uri": "https://localhost:8080/"
        },
        "id": "N-s2saBUAzdC",
        "outputId": "c0a6eadc-9724-4420-f0c8-19e610d98337"
      },
      "outputs": [
        {
          "name": "stdout",
          "output_type": "stream",
          "text": [
            "mean_squared_error=  85.87458696750207\n",
            "mean_absolute_error=  7.542737975624398\n"
          ]
        }
      ],
      "source": [
        "mean_squared_error=metrics.mean_squared_error(y_test, y_predict)\n",
        "mean_absolute_error=metrics.mean_absolute_error(y_test, y_predict)\n",
        "print(\"mean_squared_error= \",mean_squared_error)\n",
        "print(\"mean_absolute_error= \",mean_absolute_error)"
      ]
    },
    {
      "cell_type": "code",
      "execution_count": null,
      "metadata": {
        "colab": {
          "base_uri": "https://localhost:8080/"
        },
        "id": "XCO_l9JtB_mm",
        "outputId": "ebcd620f-3f2f-4e02-c1ff-16a797a3eae4"
      },
      "outputs": [
        {
          "name": "stdout",
          "output_type": "stream",
          "text": [
            "[68.76268307]\n"
          ]
        },
        {
          "name": "stderr",
          "output_type": "stream",
          "text": [
            "/usr/local/lib/python3.10/dist-packages/sklearn/base.py:439: UserWarning: X does not have valid feature names, but LinearRegression was fitted with feature names\n",
            "  warnings.warn(\n"
          ]
        }
      ],
      "source": [
        "print(model.predict([[3,1500,8,40,1000,2,1,0]]))"
      ]
    },
    {
      "cell_type": "code",
      "execution_count": null,
      "metadata": {
        "colab": {
          "base_uri": "https://localhost:8080/"
        },
        "id": "fvaqKgQUCvT0",
        "outputId": "ab916173-74e2-4aab-b568-4d0635395106"
      },
      "outputs": [
        {
          "name": "stdout",
          "output_type": "stream",
          "text": [
            "0.5551889957371967\n"
          ]
        }
      ],
      "source": [
        "score = model.score(x_test,y_test)\n",
        "print(score)"
      ]
    },
    {
      "cell_type": "code",
      "execution_count": null,
      "metadata": {
        "id": "44T7WO1OCynd"
      },
      "outputs": [],
      "source": []
    }
  ],
  "metadata": {
    "colab": {
      "provenance": []
    },
    "kernelspec": {
      "display_name": "Python 3",
      "name": "python3"
    },
    "language_info": {
      "name": "python"
    }
  },
  "nbformat": 4,
  "nbformat_minor": 0
}